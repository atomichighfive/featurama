{
 "cells": [
  {
   "cell_type": "code",
   "execution_count": 207,
   "metadata": {},
   "outputs": [],
   "source": [
    "import numpy as np\n",
    "import pandas as pd\n",
    "from scipy.stats import rankdata"
   ]
  },
  {
   "cell_type": "code",
   "execution_count": 4,
   "metadata": {},
   "outputs": [],
   "source": [
    "from matplotlib import pylab as plt"
   ]
  },
  {
   "cell_type": "code",
   "execution_count": 5,
   "metadata": {},
   "outputs": [],
   "source": [
    "data = pd.read_csv('featurama/sample_data/titanic.csv')\n",
    "train = data.iloc[0:600]\n",
    "test = data.iloc[600:890]"
   ]
  },
  {
   "cell_type": "code",
   "execution_count": 226,
   "metadata": {},
   "outputs": [],
   "source": [
    "class EmpiricalCdf:\n",
    "    def __init__(self, X, bins=None):\n",
    "        self.x = np.sort(X)\n",
    "        self.P = np.cumsum(np.ones(shape=self.x.shape))/len(self.x)\n",
    "        \n",
    "    def cdf(self, x):\n",
    "        return np.interp(x, self.x, self.P)*(x > self.x[0]) \n",
    "    \n",
    "    def inverse_cdf(self, P):\n",
    "        return np.interp(P, self.P, self.x)\n",
    "        \n",
    "class InverseEmpiricalCDFTransform:\n",
    "    def __init__(self, bins=None):\n",
    "        self.bins = bins\n",
    "        self._CDFs = {}\n",
    "        \n",
    "    def fit(self, X, y=None):\n",
    "        X = np.array(X)\n",
    "        if len(X.shape) == 1:\n",
    "            X = np.reshape(X, (len(X), 1))\n",
    "        for i in range(X.shape[1]):\n",
    "            self._CDFs[i] = EmpiricalCdf(X[:,i], bins=self.bins)\n",
    "            \n",
    "    def transform(self, X):\n",
    "        X = np.array(X)\n",
    "        shape = X.shape\n",
    "        if len(X.shape) == 1:\n",
    "            X = np.reshape(X, (len(X), 1))\n",
    "        X_out = []\n",
    "        for i in range(X.shape[1]):\n",
    "            X_out.append(self._CDFs[i].cdf(X[:,i]))\n",
    "        X_out = np.stack(X_out, axis=1)\n",
    "        return np.reshape(X_out, shape)\n",
    "    \n",
    "    def inverse_transform(self, X):\n",
    "        X = np.array(X)\n",
    "        shape = X.shape\n",
    "        if len(X.shape) == 1:\n",
    "            X = np.reshape(X, (len(X), 1))\n",
    "        X_out = []\n",
    "        for i in range(X.shape[1]):\n",
    "            X_out.append(self._CDFs[i].inverse_cdf(X[:,i]))\n",
    "        X_out = np.stack(X_out, axis=1)\n",
    "        return np.reshape(X_out, shape) \n"
   ]
  },
  {
   "cell_type": "code",
   "execution_count": 227,
   "metadata": {
    "scrolled": false
   },
   "outputs": [],
   "source": [
    "tr = InverseEmpiricalCDFTransform()\n",
    "tr.fit(train.Fare)"
   ]
  },
  {
   "cell_type": "code",
   "execution_count": 228,
   "metadata": {},
   "outputs": [
    {
     "data": {
      "image/png": "[encoded data removed]",
      "text/plain": [
       "<Figure size 432x288 with 1 Axes>"
      ]
     },
     "metadata": {
      "needs_background": "light"
     },
     "output_type": "display_data"
    }
   ],
   "source": [
    "plt.hist(tr.transform(train.Fare), bins=30, density=True, alpha=0.5)\n",
    "plt.hist(tr.transform(test.Fare), bins=30, density=True, alpha=0.5)\n",
    "plt.grid()\n",
    "plt.show()"
   ]
  },
  {
   "cell_type": "code",
   "execution_count": 234,
   "metadata": {},
   "outputs": [
    {
     "data": {
      "image/png": "[encoded data removed]",
      "text/plain": [
       "<Figure size 432x288 with 1 Axes>"
      ]
     },
     "metadata": {
      "needs_background": "light"
     },
     "output_type": "display_data"
    }
   ],
   "source": [
    "plt.hist(test.Fare, bins=np.linspace(0,500,100), density=True, alpha=1.0)\n",
    "plt.hist(tr.inverse_transform(tr.transform(test.Fare)), bins=np.linspace(0,500,100), density=True, alpha=0.5)\n",
    "plt.show()"
   ]
  },
  {
   "cell_type": "code",
   "execution_count": 237,
   "metadata": {},
   "outputs": [
    {
     "data": {
      "text/plain": [
       "0.0"
      ]
     },
     "execution_count": 237,
     "metadata": {},
     "output_type": "execute_result"
    }
   ],
   "source": [
    "np.max(np.abs(tr.inverse_transform(tr.transform(train.Fare)) - train.Fare))"
   ]
  },
  {
   "cell_type": "code",
   "execution_count": 231,
   "metadata": {},
   "outputs": [
    {
     "data": {
      "image/png": "[encoded data removed]",
      "text/plain": [
       "<Figure size 432x288 with 1 Axes>"
      ]
     },
     "metadata": {
      "needs_background": "light"
     },
     "output_type": "display_data"
    }
   ],
   "source": [
    "x = np.linspace(-100,600)\n",
    "y = tr.transform(x)\n",
    "\n",
    "plt.plot(x,y)\n",
    "plt.hist(train.Fare, density=True, cumulative=True, bins=200)\n",
    "plt.show()"
   ]
  },
  {
   "cell_type": "code",
   "execution_count": 232,
   "metadata": {},
   "outputs": [
    {
     "data": {
      "image/png": "[encoded data removed]",
      "text/plain": [
       "<Figure size 432x288 with 1 Axes>"
      ]
     },
     "metadata": {
      "needs_background": "light"
     },
     "output_type": "display_data"
    }
   ],
   "source": [
    "x = np.linspace(-100,600)\n",
    "y = tr.transform(x)\n",
    "\n",
    "plt.plot(x,y)\n",
    "plt.hist(test.Fare, density=True, cumulative=True, bins=200)\n",
    "plt.show()"
   ]
  },
  {
   "cell_type": "code",
   "execution_count": null,
   "metadata": {},
   "outputs": [],
   "source": []
  }
 ],
 "metadata": {
  "kernelspec": {
   "display_name": "Python 3",
   "language": "python",
   "name": "python3"
  },
  "language_info": {
   "codemirror_mode": {
    "name": "ipython",
    "version": 3
   },
   "file_extension": ".py",
   "mimetype": "text/x-python",
   "name": "python",
   "nbconvert_exporter": "python",
   "pygments_lexer": "ipython3",
   "version": "3.7.2"
  }
 },
 "nbformat": 4,
 "nbformat_minor": 2
}
